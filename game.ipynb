{
 "cells": [
  {
   "cell_type": "code",
   "execution_count": 1,
   "metadata": {},
   "outputs": [
    {
     "name": "stdout",
     "output_type": "stream",
     "text": [
      "higher than 4\n",
      "higher than 7\n",
      "higher than 2\n",
      "higher than 8\n",
      "higher than 9\n",
      "higher than 8\n",
      "higher than 20\n",
      "lower than 100\n",
      "lower than 99\n",
      "higher than 50\n",
      "higher than 60\n",
      "Congratulations!!!!! you've guessed the correct number\n"
     ]
    }
   ],
   "source": [
    "import random\n",
    "\n",
    "def compare(un,n):\n",
    "    while un != n:\n",
    "        print(f\"higher than {un}\") if un<n else print(f\"lower than {un}\")\n",
    "        un=int(input())\n",
    "    \n",
    "    return print(f\"Congratulations!!!!! you've guessed the correct number\")\n",
    "random_integer= random.randint(1,100)\n",
    "user_input= int(input(\"Enter your guess: \"))\n",
    "compare(user_input,random_integer)\n",
    "            \n",
    "                "
   ]
  }
 ],
 "metadata": {
  "kernelspec": {
   "display_name": "Python 3",
   "language": "python",
   "name": "python3"
  },
  "language_info": {
   "codemirror_mode": {
    "name": "ipython",
    "version": 3
   },
   "file_extension": ".py",
   "mimetype": "text/x-python",
   "name": "python",
   "nbconvert_exporter": "python",
   "pygments_lexer": "ipython3",
   "version": "3.10.11"
  }
 },
 "nbformat": 4,
 "nbformat_minor": 2
}
